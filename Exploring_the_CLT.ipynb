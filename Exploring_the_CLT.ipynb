{
 "cells": [
  {
   "cell_type": "code",
   "execution_count": 2,
   "metadata": {
    "collapsed": true
   },
   "outputs": [],
   "source": [
    "import numpy as np\n",
    "import pandas as pd\n",
    "import matplotlib.pyplot as plt\n",
    "import scipy\n",
    "%matplotlib inline"
   ]
  },
  {
   "cell_type": "code",
   "execution_count": 3,
   "metadata": {},
   "outputs": [
    {
     "name": "stdout",
     "output_type": "stream",
     "text": [
      "The mean of population1 is 2.0053 and its standard dev is 1.2597110422632645\n",
      "The mean of population2 is 5.0074 and its standard dev is 1.5890705585341387\n",
      "The mean of sample1 is 1.84 and its standard dev is 1.3908270920570966\n",
      "The mean of sample2 is 4.99 and its standard dev is 1.6093166251549134\n"
     ]
    }
   ],
   "source": [
    "#create two samples\n",
    "pop1 = np.random.binomial(10, 0.2, 10000)\n",
    "pop2 = np.random.binomial(10, 0.5, 10000)\n",
    "\n",
    "sample1 = np.random.choice(pop1, 100)\n",
    "sample2 = np.random.choice(pop2, 100)\n",
    "\n",
    "#mean and std of each sample\n",
    "m1 = sample1.mean()\n",
    "sd1 = sample1.std()\n",
    "m2 = sample2.mean()\n",
    "sd2 = sample2.std()\n",
    "\n",
    "print(\"The mean of population1 is {} and its standard dev is {}\".format(pop1.mean(), pop1.std()))\n",
    "print(\"The mean of population2 is {} and its standard dev is {}\".format(pop2.mean(), pop2.std()))\n",
    "print(\"The mean of sample1 is {} and its standard dev is {}\".format(m1, sd1))\n",
    "print(\"The mean of sample2 is {} and its standard dev is {}\".format(m2, sd2))\n"
   ]
  },
  {
   "cell_type": "markdown",
   "metadata": {},
   "source": [
    "1. Increase the size of your samples from 100 to 1000, then calculate the means and standard deviations for your new samples and create histograms for each. Repeat this again, decreasing the size of your samples to 20. What values change, and what remain the same?\n",
    "\n",
    "I would expect the means to be closer to the population means. When the sample size is reduced to 20 the means should be further away from the population means with larger standard deviation."
   ]
  },
  {
   "cell_type": "code",
   "execution_count": 4,
   "metadata": {},
   "outputs": [
    {
     "name": "stdout",
     "output_type": "stream",
     "text": [
      "The mean of sample 1a is 2.01 and its standard dev is 1.2368912644206038\n",
      "The mean of sample 2a is 5.05 and its standard dev is 1.61291661284767\n"
     ]
    }
   ],
   "source": [
    "sample1a = np.random.choice(pop1, 1000)\n",
    "sample2a = np.random.choice(pop2, 1000)\n",
    "\n",
    "m1a = sample1a.mean()\n",
    "sd1a = sample1a.std()\n",
    "m2a = sample2a.mean()\n",
    "sd2a = sample2a.std()\n",
    "\n",
    "print(\"The mean of sample 1a is {} and its standard dev is {}\".format(m1a, sd1a))\n",
    "print(\"The mean of sample 2a is {} and its standard dev is {}\".format(m2a, sd2a))"
   ]
  },
  {
   "cell_type": "code",
   "execution_count": 5,
   "metadata": {
    "scrolled": true
   },
   "outputs": [
    {
     "data": {
      "image/png": "[encoded data removed]",
      "text/plain": [
       "<matplotlib.figure.Figure at 0x194d4afed30>"
      ]
     },
     "metadata": {},
     "output_type": "display_data"
    }
   ],
   "source": [
    "plt.hist(sample1a, alpha=0.5)\n",
    "plt.hist(sample2a, alpha=0.5)\n",
    "plt.show()"
   ]
  },
  {
   "cell_type": "code",
   "execution_count": 6,
   "metadata": {},
   "outputs": [
    {
     "name": "stdout",
     "output_type": "stream",
     "text": [
      "The mean of sample 1b is 1.55 and its standard dev is 0.9205976319760985\n",
      "The mean of sample 2b is 4.7 and its standard dev is 1.307669683062202\n"
     ]
    }
   ],
   "source": [
    "sample1b = np.random.choice(pop1, 20)\n",
    "sample2b = np.random.choice(pop2, 20)\n",
    "\n",
    "m1b = sample1b.mean()\n",
    "sd1b = sample1b.std()\n",
    "m2b = sample2b.mean()\n",
    "sd2b = sample2b.std()\n",
    "\n",
    "print(\"The mean of sample 1b is {} and its standard dev is {}\".format(m1b, sd1b))\n",
    "print(\"The mean of sample 2b is {} and its standard dev is {}\".format(m2b, sd2b))"
   ]
  },
  {
   "cell_type": "code",
   "execution_count": 7,
   "metadata": {},
   "outputs": [
    {
     "data": {
      "image/png": "[encoded data removed]",
      "text/plain": [
       "<matplotlib.figure.Figure at 0x194d4dbb240>"
      ]
     },
     "metadata": {},
     "output_type": "display_data"
    }
   ],
   "source": [
    "plt.hist(m1b, alpha=0.5)\n",
    "plt.hist(m2b, alpha=0.5)\n",
    "plt.show()"
   ]
  },
  {
   "cell_type": "markdown",
   "metadata": {},
   "source": [
    "2. Change the probability value (p in the NumPy documentation) for pop1 to 0.3, then take new samples and compute the t-statistic and p-value. Then change the probability value p for group 1 to 0.4, and do it again. What changes, and why?"
   ]
  },
  {
   "cell_type": "code",
   "execution_count": 8,
   "metadata": {
    "scrolled": true
   },
   "outputs": [
    {
     "name": "stdout",
     "output_type": "stream",
     "text": [
      "The mean of population1new is 4.0203 and its standard dev is 1.5662336703059347\n",
      "The mean of population2 is 4.9864 and its standard dev is 1.586573364203496\n",
      "The mean of sample1new is 3.67 and its standard dev is 1.594082808388573\n",
      "The mean of sample2 is 5.19 and its standard dev is 1.585528303121707\n"
     ]
    }
   ],
   "source": [
    "#create two samples\n",
    "pop1new = np.random.binomial(10, 0.4, 10000)\n",
    "pop2 = np.random.binomial(10, 0.5, 10000)\n",
    "\n",
    "sample1new = np.random.choice(pop1new, 100)\n",
    "sample2 = np.random.choice(pop2, 100)\n",
    "\n",
    "#mean and std of each sample\n",
    "m1new = sample1new.mean()\n",
    "sd1new = sample1new.std()\n",
    "m2 = sample2.mean()\n",
    "sd2 = sample2.std()\n",
    "\n",
    "print(\"The mean of population1new is {} and its standard dev is {}\".format(pop1new.mean(), pop1new.std()))\n",
    "print(\"The mean of population2 is {} and its standard dev is {}\".format(pop2.mean(), pop2.std()))\n",
    "print(\"The mean of sample1new is {} and its standard dev is {}\".format(m1new, sd1new))\n",
    "print(\"The mean of sample2 is {} and its standard dev is {}\".format(m2, sd2))"
   ]
  },
  {
   "cell_type": "code",
   "execution_count": 9,
   "metadata": {},
   "outputs": [
    {
     "name": "stdout",
     "output_type": "stream",
     "text": [
      "diff_se = 0.22483327155917113\n",
      "y_bar = 1.5200000000000005\n",
      "Our t-value is 6.760565237783191\n"
     ]
    }
   ],
   "source": [
    "size = np.array([len(sample1new), len(sample2)])\n",
    "sd = np.array([sample1new.std(), sample2.std()])\n",
    "\n",
    "def mult(arr_a, arr_b):\n",
    "    return arr_a[0]**2 / arr_b[0] + arr_a[1]**2 / arr_b[1]\n",
    "\n",
    "#Squared standard deviations divided by the square root of the sum\n",
    "diff_se = (mult(sd, size)) ** 0.5\n",
    "y_bar = m2 - m1new\n",
    "print(\"diff_se = {}\".format(diff_se))\n",
    "print(\"y_bar = {}\".format(y_bar))\n",
    "print(\"Our t-value is {}\".format(y_bar / diff_se))"
   ]
  },
  {
   "cell_type": "code",
   "execution_count": 10,
   "metadata": {},
   "outputs": [
    {
     "name": "stdout",
     "output_type": "stream",
     "text": [
      "Ttest_indResult(statistic=6.7266774793340032, pvalue=1.8206021271486989e-10)\n"
     ]
    }
   ],
   "source": [
    "from scipy.stats import ttest_ind\n",
    "print(ttest_ind(sample2, sample1new, equal_var=False))\n",
    "\n",
    "#If p(pop1new)=0.3,p(pop2)=0.5:\n",
    "#The mean of population1new is 3.0319 and its standard dev is 1.4579720127629336\n",
    "#The mean of population2 is 4.986 and its standard dev is 1.5790516141025916\n",
    "#The mean of sample1new is 3.1 and its standard dev is 1.4730919862656238\n",
    "#The mean of sample2 is 4.94 and its standard dev is 1.6722440013347335\n",
    "#diff_se = 0.22285421243494594\n",
    "#y_bar = 1.8400000000000003\n",
    "#Our t-value is 8.256518824103988\n",
    "#Ttest_indResult(statistic=8.2151325042177916, pvalue=2.8919746382381763e-14)\n",
    "\n",
    "#If p(pop1new)=0.3,p(pop2)=0.5:\n",
    "#The mean of population1new is 3.9862 and its standard dev is 1.5555737076718674\n",
    "#The mean of population2 is 5.0081 and its standard dev is 1.5865164323132617\n",
    "#The mean of sample1new is 3.97 and its standard dev is 1.5195723082499235\n",
    "#The mean of sample2 is 4.7 and its standard dev is 1.7464249196572978\n",
    "#diff_se = 0.23149730020023992\n",
    "#y_bar = 0.73\n",
    "#Our t-value is 3.1533845075884965\n",
    "#Ttest_indResult(statistic=3.1375779694171992, pvalue=0.0019686624785378616)"
   ]
  },
  {
   "cell_type": "markdown",
   "metadata": {},
   "source": [
    "Increasing the probablility of the first population has reduced the t-value, while significantly increasing the p-value. "
   ]
  },
  {
   "cell_type": "markdown",
   "metadata": {},
   "source": [
    "## Change the Distribution to Normal and Repeat"
   ]
  },
  {
   "cell_type": "code",
   "execution_count": 11,
   "metadata": {},
   "outputs": [
    {
     "name": "stdout",
     "output_type": "stream",
     "text": [
      "The mean of population1norm is 69.93641154850401 and its standard dev is 14.991046958406956\n",
      "The mean of population2norm is 24.983714042004415 and its standard dev is 6.974773446507188\n",
      "The mean of sample1norm is 69.57172890155914 and its standard dev is 15.206717079048149\n",
      "The mean of sample2norm is 24.921214359917577 and its standard dev is 6.982708363458022\n"
     ]
    }
   ],
   "source": [
    "#create two samples\n",
    "pop1norm = np.random.normal(70, 15, 10000)\n",
    "pop2norm = np.random.normal(25, 7, 10000)\n",
    "\n",
    "sample1norm = np.random.choice(pop1norm, 1000)\n",
    "sample2norm = np.random.choice(pop2norm, 1000)\n",
    "\n",
    "#mean and std of each sample\n",
    "m1norm = sample1norm.mean()\n",
    "sd1norm = sample1norm.std()\n",
    "m2norm = sample2norm.mean()\n",
    "sd2norm = sample2norm.std()\n",
    "\n",
    "print(\"The mean of population1norm is {} and its standard dev is {}\".format(pop1norm.mean(), pop1norm.std()))\n",
    "print(\"The mean of population2norm is {} and its standard dev is {}\".format(pop2norm.mean(), pop2norm.std()))\n",
    "print(\"The mean of sample1norm is {} and its standard dev is {}\".format(m1norm, sd1norm))\n",
    "print(\"The mean of sample2norm is {} and its standard dev is {}\".format(m2norm, sd2norm))"
   ]
  },
  {
   "cell_type": "code",
   "execution_count": 12,
   "metadata": {},
   "outputs": [
    {
     "data": {
      "image/png": "[encoded data removed]",
      "text/plain": [
       "<matplotlib.figure.Figure at 0x194d6b6dc50>"
      ]
     },
     "metadata": {},
     "output_type": "display_data"
    }
   ],
   "source": [
    "plt.hist(sample1norm, color='y', alpha=0.5)\n",
    "plt.hist(sample2norm, color='r', alpha=0.5)\n",
    "plt.show()"
   ]
  },
  {
   "cell_type": "code",
   "execution_count": 14,
   "metadata": {},
   "outputs": [
    {
     "name": "stdout",
     "output_type": "stream",
     "text": [
      "diff_se = 0.529152587077982\n",
      "y_bar = -44.65051454164156\n",
      "Our t-value is -84.38117025602173\n"
     ]
    }
   ],
   "source": [
    "size_norm = np.array([len(sample1norm), len(sample2norm)])\n",
    "sd_norm = np.array([sample1norm.std(), sample2norm.std()])\n",
    "\n",
    "def mult(arr_a, arr_b):\n",
    "    return arr_a[0]**2 / arr_b[0] + arr_a[1]**2 / arr_b[1]\n",
    "\n",
    "#Squared standard deviations divided by the square root of the sum\n",
    "diff_se_norm = (mult(sd_norm, size_norm)) ** 0.5\n",
    "y_bar_norm = m2norm - m1norm\n",
    "print(\"diff_se = {}\".format(diff_se_norm))\n",
    "print(\"y_bar = {}\".format(y_bar_norm))\n",
    "print(\"Our t-value is {}\".format(y_bar_norm / diff_se_norm))"
   ]
  },
  {
   "cell_type": "code",
   "execution_count": 16,
   "metadata": {},
   "outputs": [
    {
     "name": "stdout",
     "output_type": "stream",
     "text": [
      "Ttest_indResult(statistic=-84.338969117970308, pvalue=0.0)\n"
     ]
    }
   ],
   "source": [
    "from scipy.stats import ttest_ind\n",
    "print(ttest_ind(sample2norm, sample1norm, equal_var=False))"
   ]
  },
  {
   "cell_type": "markdown",
   "metadata": {},
   "source": [
    "The sample mean values well represent the population mean values."
   ]
  }
 ],
 "metadata": {
  "kernelspec": {
   "display_name": "Python 3",
   "language": "python",
   "name": "python3"
  },
  "language_info": {
   "codemirror_mode": {
    "name": "ipython",
    "version": 3
   },
   "file_extension": ".py",
   "mimetype": "text/x-python",
   "name": "python",
   "nbconvert_exporter": "python",
   "pygments_lexer": "ipython3",
   "version": "3.6.2"
  }
 },
 "nbformat": 4,
 "nbformat_minor": 2
}
